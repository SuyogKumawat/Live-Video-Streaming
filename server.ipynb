{
 "cells": [
  {
   "cell_type": "markdown",
   "metadata": {},
   "source": [
    "# Live Video Streaming Chat App using OPENCV witout Voice"
   ]
  },
  {
   "cell_type": "markdown",
   "metadata": {},
   "source": [
    "Server-Side"
   ]
  },
  {
   "cell_type": "code",
   "execution_count": 1,
   "metadata": {},
   "outputs": [],
   "source": [
    "import socket\n",
    "import threading\n",
    "import cv2\n",
    "import numpy as np\n",
    "import pickle"
   ]
  },
  {
   "cell_type": "code",
   "execution_count": 2,
   "metadata": {},
   "outputs": [],
   "source": [
    "s=socket.socket()\n",
    "s.setsockopt(socket.SOL_SOCKET, socket.SO_REUSEADDR, 1)\n",
    "port=2345\n",
    "ip=\"\"\n",
    "\n",
    "s.bind(( ip,port ))\n",
    "\n",
    "s.listen()\n",
    "\n",
    "def task3_server(csession,addr):\n",
    "    cap=cv2.VideoCapture(0)\n",
    "    while True:\n",
    "        ret,photo= cap.read()\n",
    "        ret1, buffer = cv2.imencode('.jpg',photo)\n",
    "        csession.send(pickle.dumps(buffer))\n",
    "        \n",
    "        raw = csession.recv(1000000)\n",
    "        data = pickle.loads(raw)\n",
    "        data = cv2.imdecode(data,cv2.IMREAD_COLOR)\n",
    "        if data is not None :\n",
    "            cv2.imshow('Client-photo',data)\n",
    "            if cv2.waitKey(10) == 13 :\n",
    "                break\n",
    "    cv2.destroyAllWindows()     "
   ]
  },
  {
   "cell_type": "code",
   "execution_count": null,
   "metadata": {},
   "outputs": [
    {
     "name": "stdout",
     "output_type": "stream",
     "text": [
      "------- Client Connected -----\n",
      "('192.168.115.1', 51075)\n"
     ]
    }
   ],
   "source": [
    "while True:\n",
    "    csession,addr=s.accept()\n",
    "    print(\"------- Client Connected -----\")\n",
    "    print(addr)\n",
    "    t1=threading.Thread(target=task3_server,args=(csession,addr))\n",
    "    t1.start()"
   ]
  },
  {
   "cell_type": "code",
   "execution_count": null,
   "metadata": {},
   "outputs": [],
   "source": []
  }
 ],
 "metadata": {
  "kernelspec": {
   "display_name": "Python 3",
   "language": "python",
   "name": "python3"
  },
  "language_info": {
   "codemirror_mode": {
    "name": "ipython",
    "version": 3
   },
   "file_extension": ".py",
   "mimetype": "text/x-python",
   "name": "python",
   "nbconvert_exporter": "python",
   "pygments_lexer": "ipython3",
   "version": "3.8.3"
  }
 },
 "nbformat": 4,
 "nbformat_minor": 4
}
